{
 "cells": [
  {
   "cell_type": "code",
   "execution_count": 2,
   "metadata": {},
   "outputs": [],
   "source": [
    "input = open(\"input/test1.seq\", \"r\")"
   ]
  },
  {
   "cell_type": "code",
   "execution_count": 3,
   "metadata": {},
   "outputs": [
    {
     "name": "stdout",
     "output_type": "stream",
     "text": [
      "CGGGTAGTTAACCCTACAGCATAGAGTCGCGAGATAAAGTGCAGGAGTCTTTCGCGGCAGATTCGTACCTCAACCACGTGCTACTTTCTGGCATCACGAATCTGCCGCATAGGTCCGTGAGTCCATATGA\n",
      "\n",
      "AGGAAGTAGTTAGCCTAACAGGCATAGAGTCGCGACATATGTGAAGATGTCATTCGGTATTCAAACCTCATGCATCATTGCCTTGAGTCGCTCCTGGAGCATAGTCCCTGAGTGCCATATGA\n",
      "\n"
     ]
    }
   ],
   "source": [
    "cnt = 0;\n",
    "seq1 = \"\"\n",
    "seq2 = \"\"\n",
    "for line in input :\n",
    "    if(cnt == 0):\n",
    "        seq1 = line\n",
    "    if(cnt == 1):\n",
    "        seq2 = line\n",
    "    cnt+=1\n",
    "    print(line)"
   ]
  },
  {
   "cell_type": "code",
   "execution_count": 4,
   "metadata": {},
   "outputs": [
    {
     "data": {
      "text/plain": [
       "131"
      ]
     },
     "execution_count": 4,
     "metadata": {},
     "output_type": "execute_result"
    }
   ],
   "source": [
    "len(seq1)"
   ]
  },
  {
   "cell_type": "code",
   "execution_count": 5,
   "metadata": {},
   "outputs": [],
   "source": [
    "def print_matrix(mat):\n",
    "    # Loop over all rows\n",
    "    for i in range(0, len(mat)):\n",
    "        print(\"[\", end = \"\")\n",
    "        # Loop over each column in row i\n",
    "        for j in range(0, len(mat[i])):\n",
    "            # Print out the value in row i, column j\n",
    "            print(mat[i][j], end = \"\")\n",
    "            # Only add a tab if we're not in the last column\n",
    "            if j != len(mat[i]) - 1:\n",
    "                print(\"\\t\", end = \"\")\n",
    "        print(\"]\\n\")"
   ]
  },
  {
   "cell_type": "code",
   "execution_count": 8,
   "metadata": {},
   "outputs": [
    {
     "ename": "NameError",
     "evalue": "name 'gap_penalty' is not defined",
     "output_type": "error",
     "traceback": [
      "\u001b[0;31m---------------------------------------------------------------------------\u001b[0m",
      "\u001b[0;31mNameError\u001b[0m                                 Traceback (most recent call last)",
      "\u001b[0;32m<ipython-input-8-ca69f22ef417>\u001b[0m in \u001b[0;36m<module>\u001b[0;34m\u001b[0m\n\u001b[1;32m    117\u001b[0m     \u001b[0;32mreturn\u001b[0m\u001b[0;34m(\u001b[0m\u001b[0malign1\u001b[0m\u001b[0;34m,\u001b[0m \u001b[0malign2\u001b[0m\u001b[0;34m)\u001b[0m\u001b[0;34m\u001b[0m\u001b[0;34m\u001b[0m\u001b[0m\n\u001b[1;32m    118\u001b[0m \u001b[0;34m\u001b[0m\u001b[0m\n\u001b[0;32m--> 119\u001b[0;31m \u001b[0moutput1\u001b[0m\u001b[0;34m,\u001b[0m \u001b[0moutput2\u001b[0m \u001b[0;34m=\u001b[0m \u001b[0mneedleman_wunsch\u001b[0m\u001b[0;34m(\u001b[0m\u001b[0mseq1\u001b[0m\u001b[0;34m,\u001b[0m \u001b[0mseq2\u001b[0m\u001b[0;34m)\u001b[0m\u001b[0;34m\u001b[0m\u001b[0;34m\u001b[0m\u001b[0m\n\u001b[0m\u001b[1;32m    120\u001b[0m \u001b[0;34m\u001b[0m\u001b[0m\n\u001b[1;32m    121\u001b[0m \u001b[0mprint\u001b[0m\u001b[0;34m(\u001b[0m\u001b[0moutput1\u001b[0m \u001b[0;34m+\u001b[0m \u001b[0;34m\"\\n\"\u001b[0m \u001b[0;34m+\u001b[0m \u001b[0moutput2\u001b[0m\u001b[0;34m)\u001b[0m\u001b[0;34m\u001b[0m\u001b[0;34m\u001b[0m\u001b[0m\n",
      "\u001b[0;32m<ipython-input-8-ca69f22ef417>\u001b[0m in \u001b[0;36mneedleman_wunsch\u001b[0;34m(seq1, seq2)\u001b[0m\n\u001b[1;32m     45\u001b[0m     \u001b[0;31m# Fill out first column\u001b[0m\u001b[0;34m\u001b[0m\u001b[0;34m\u001b[0m\u001b[0;34m\u001b[0m\u001b[0m\n\u001b[1;32m     46\u001b[0m     \u001b[0;32mfor\u001b[0m \u001b[0mi\u001b[0m \u001b[0;32min\u001b[0m \u001b[0mrange\u001b[0m\u001b[0;34m(\u001b[0m\u001b[0;36m0\u001b[0m\u001b[0;34m,\u001b[0m \u001b[0mm\u001b[0m \u001b[0;34m+\u001b[0m \u001b[0;36m1\u001b[0m\u001b[0;34m)\u001b[0m\u001b[0;34m:\u001b[0m\u001b[0;34m\u001b[0m\u001b[0;34m\u001b[0m\u001b[0m\n\u001b[0;32m---> 47\u001b[0;31m         \u001b[0mscore\u001b[0m\u001b[0;34m[\u001b[0m\u001b[0mi\u001b[0m\u001b[0;34m]\u001b[0m\u001b[0;34m[\u001b[0m\u001b[0;36m0\u001b[0m\u001b[0;34m]\u001b[0m \u001b[0;34m=\u001b[0m \u001b[0mgap_penalty\u001b[0m \u001b[0;34m*\u001b[0m \u001b[0mi\u001b[0m\u001b[0;34m\u001b[0m\u001b[0;34m\u001b[0m\u001b[0m\n\u001b[0m\u001b[1;32m     48\u001b[0m \u001b[0;34m\u001b[0m\u001b[0m\n\u001b[1;32m     49\u001b[0m     \u001b[0;31m# Fill out first row\u001b[0m\u001b[0;34m\u001b[0m\u001b[0;34m\u001b[0m\u001b[0;34m\u001b[0m\u001b[0m\n",
      "\u001b[0;31mNameError\u001b[0m: name 'gap_penalty' is not defined"
     ]
    }
   ],
   "source": [
    "\n",
    "# Use these values to calculate scores\n",
    "gap_opening_penalty = -1\n",
    "gap_extension_penalty = -0.5\n",
    "match_award = 2\n",
    "mismatch_penalty = -1\n",
    "\n",
    "\n",
    "# A function for making a matrix of zeroes\n",
    "def zeros(rows, cols):\n",
    "    # Define an empty list\n",
    "    retval = []\n",
    "    # Set up the rows of the matrix\n",
    "    for x in range(rows):\n",
    "        # For each row, add an empty list\n",
    "        retval.append([])\n",
    "        # Set up the columns in each row\n",
    "        for y in range(cols):\n",
    "            # Add a zero to each column in each row\n",
    "            retval[-1].append(0)\n",
    "    # Return the matrix of zeros\n",
    "    return retval\n",
    "\n",
    "# A function for determining the score between any two bases in alignment\n",
    "def match_score(alpha, beta):\n",
    "    if alpha == beta:\n",
    "        return match_award\n",
    "    elif alpha == '-' or beta == '-':\n",
    "        return gap_opening_penalty\n",
    "    \n",
    "    else:\n",
    "        return mismatch_penalty\n",
    "\n",
    "def needleman_wunsch(seq1, seq2):\n",
    "    \n",
    "    score_total = 0\n",
    "    # Store length of two sequences\n",
    "    n = len(seq1)  \n",
    "    m = len(seq2)\n",
    "    \n",
    "    # Generate matrix of zeros to store scores\n",
    "    score = zeros(m+1, n+1)\n",
    "   \n",
    "    # Calculate score table\n",
    "    \n",
    "    # Fill out first column\n",
    "    for i in range(0, m + 1):\n",
    "        score[i][0] = gap_opening_penalty * i\n",
    "    \n",
    "    # Fill out first row\n",
    "    for j in range(0, n + 1):\n",
    "        score[0][j] = gap_opening_penalty * j\n",
    "    \n",
    "    # Fill out all other values in the score matrix\n",
    "    for i in range(1, m + 1):\n",
    "        for j in range(1, n + 1):\n",
    "            # Calculate the score by checking the top, left, and diagonal cells\n",
    "            match = score[i - 1][j - 1] + match_score(seq1[j-1], seq2[i-1])\n",
    "            delete = score[i - 1][j] + gap_opening_penalty\n",
    "            insert = score[i][j - 1] + gap_opening_penalty\n",
    "            \n",
    "            score_total = match + delete + insert\n",
    "            # Record the maximum score from the three possible scores calculated above\n",
    "            score[i][j] = max(match, delete, insert)\n",
    "    \n",
    "    # Traceback and compute the alignment \n",
    "    \n",
    "    # Create variables to store alignment\n",
    "    align1 = \"\"\n",
    "    align2 = \"\"\n",
    "    \n",
    "    # Start from the bottom right cell in matrix\n",
    "    i = m\n",
    "    j = n\n",
    "    \n",
    "    # We'll use i and j to keep track of where we are in the matrix, just like above\n",
    "    while i > 0 and j > 0: # end touching the top or the left edge\n",
    "        score_current = score[i][j]\n",
    "        score_diagonal = score[i-1][j-1]\n",
    "        score_up = score[i][j-1]\n",
    "        score_left = score[i-1][j]\n",
    "        \n",
    "        # Check to figure out which cell the current score was calculated from,\n",
    "        # then update i and j to correspond to that cell.\n",
    "        if score_current == score_diagonal + match_score(seq1[j-1], seq2[i-1]):\n",
    "            align1 += seq1[j-1]\n",
    "            align2 += seq2[i-1]\n",
    "            i -= 1\n",
    "            j -= 1\n",
    "        elif score_current == score_up + gap_opening_penalty:\n",
    "            align1 += seq1[j-1]\n",
    "            align2 += '-'\n",
    "            j -= 1\n",
    "        elif score_current == score_left + gap_opening_penalty:\n",
    "            align1 += '-'\n",
    "            align2 += seq2[i-1]\n",
    "            i -= 1\n",
    "\n",
    "    # Finish tracing up to the top left cell\n",
    "    while j > 0:\n",
    "        align1 += seq1[j-1]\n",
    "        align2 += '-'\n",
    "        j -= 1\n",
    "    while i > 0:\n",
    "        align1 += '-'\n",
    "        align2 += seq2[i-1]\n",
    "        i -= 1\n",
    "    \n",
    "    # Since we traversed the score matrix from the bottom right, our two sequences will be reversed.\n",
    "    # These two lines reverse the order of the characters in each sequence.\n",
    "    align1 = align1[::-1]\n",
    "    align2 = align2[::-1]\n",
    "    \n",
    "    print(score_total)\n",
    "    print(score)\n",
    "\n",
    "    \n",
    "    return(align1, align2)\n",
    "\n",
    "output1, output2 = needleman_wunsch(seq1, seq2)\n",
    "\n",
    "print(output1 + \"\\n\" + output2)\n",
    "\n",
    "print_matrix(needleman_wunsch(seq1, seq2))"
   ]
  },
  {
   "cell_type": "code",
   "execution_count": null,
   "metadata": {},
   "outputs": [],
   "source": []
  }
 ],
 "metadata": {
  "kernelspec": {
   "display_name": "Python 3",
   "language": "python",
   "name": "python3"
  },
  "language_info": {
   "codemirror_mode": {
    "name": "ipython",
    "version": 3
   },
   "file_extension": ".py",
   "mimetype": "text/x-python",
   "name": "python",
   "nbconvert_exporter": "python",
   "pygments_lexer": "ipython3",
   "version": "3.8.5"
  }
 },
 "nbformat": 4,
 "nbformat_minor": 4
}
