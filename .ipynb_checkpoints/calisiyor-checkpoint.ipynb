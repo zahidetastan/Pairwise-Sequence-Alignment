{
 "cells": [
  {
   "cell_type": "code",
   "execution_count": 9,
   "metadata": {},
   "outputs": [],
   "source": [
    "import numpy as np\n",
    "from IPython.core.display import HTML\n",
    "from skbio import DNA"
   ]
  },
  {
   "cell_type": "code",
   "execution_count": 10,
   "metadata": {},
   "outputs": [],
   "source": [
    "input = open(\"input/test1.seq\", \"r\")"
   ]
  },
  {
   "cell_type": "code",
   "execution_count": 11,
   "metadata": {},
   "outputs": [
    {
     "name": "stdout",
     "output_type": "stream",
     "text": [
      "CGGGTAGTTAACCCTACAGCATAGAGTCGCGAGATAAAGTGCAGGAGTCTTTCGCGGCAGATTCGTACCTCAACCACGTGCTACTTTCTGGCATCACGAATCTGCCGCATAGGTCCGTGAGTCCATATGA\n",
      "\n",
      "AGGAAGTAGTTAGCCTAACAGGCATAGAGTCGCGACATATGTGAAGATGTCATTCGGTATTCAAACCTCATGCATCATTGCCTTGAGTCGCTCCTGGAGCATAGTCCCTGAGTGCCATATGA\n",
      "\n"
     ]
    }
   ],
   "source": [
    "cnt = 0;\n",
    "seq1 = \"\"\n",
    "seq2 = \"\"\n",
    "for line in input :\n",
    "    if(cnt == 0):\n",
    "        seq1 = line\n",
    "    if(cnt == 1):\n",
    "        seq2 = line\n",
    "    cnt+=1\n",
    "    print(line)"
   ]
  },
  {
   "cell_type": "code",
   "execution_count": 22,
   "metadata": {},
   "outputs": [],
   "source": [
    "import numpy as np\n",
    "from string import*\n",
    "\n",
    "Match=+2  # default values for Match,Mismatch,Gap\n",
    "Mismatch=-1\n",
    "Gap=-1\n",
    "\n",
    "rows= len(seq1)+1 #Initiation Matrix Size (Rows) m\n",
    "columns = len(seq2)+1 #Initiation Matrix Size (Columns) nn\n",
    "\n",
    "score_matrix = [[[[None] for i in range(2)] for i in range(columns)] for i in range(rows)] # Initiating Score Matrix\n",
    "Gap_char = '-'#Character to Represent Gaps in Final Alignemnts\n",
    "Align_paths= [] #Initiating List of Discovered aln Pathways\n",
    "\n",
    "\n",
    "\n",
    "def find_each_route(c_i,c_j,path=''): #Nested function to discover new aln pathways\n",
    "    global Align_paths \n",
    "    i = c_i \n",
    "    j = c_j\n",
    "    \n",
    "    if i == 0 and j==0:       #If come back to the first cell\n",
    "        Align_paths.append(path) \n",
    "        return 2\n",
    "    \n",
    "    dir_t = len(score_matrix[i][j][1]) #number of maximum values in o_val\n",
    "    while dir_t<=1: \n",
    "        n_dir = M[i][j][1][0] if (i != 0 and j != 0) else (1 if i == 0 else (3 if j==0 else 0))\n",
    "        \n",
    "        path = path + str(n_dir) \n",
    "        if n_dir == 1:  #Left \n",
    "            j=j-1\n",
    "        elif n_dir == 2: #diagonal\n",
    "            i=i-1\n",
    "            j=j-1\n",
    "        elif n_dir == 3: #up\n",
    "            i=i-1\n",
    "            \n",
    "        dir_t = len(score_matrix[i][j][1])\n",
    "        \n",
    "        if i==0 and j==0:\n",
    "            Align_paths.append(path) #when come to the initial point; then append\n",
    "            return 3\n",
    "        \n",
    "    if dir_t>1:\n",
    "        for dir_c in range(dir_t):\n",
    "            n_dir = score_matrix[i][j][1][dir_c] if (i != 0 and j != 0) else (1 if i == 0 else (3 if j==0 else 0))\n",
    "            \n",
    "            temp_path = path + str(n_dir)\n",
    "            if n_dir == 1:\n",
    "                n_i = i\n",
    "                n_j=j-1\n",
    "            elif n_dir == 2:\n",
    "                n_i=i-1\n",
    "                n_j=j-1\n",
    "            elif n_dir == 3:\n",
    "                n_i=i-1\n",
    "                n_j = j\n",
    "            find_each_route(n_i,n_j,temp_path) #recursion\n",
    "    return len(Align_paths)\n",
    "\n",
    "\n",
    "\n",
    "#Main Code\n",
    "\n",
    "#matrix Evalution[start]\n",
    "\n",
    "def pairwise_alignment(seq1,seq2):\n",
    "    for i in range(rows):  \n",
    "        score_matrix[i][0] = [Gap*i,[]] #find values to initialize first column\n",
    "\n",
    "    for j in range(columns):\n",
    "        score_matrix[0][j] = [Gap*j,[]] #find values to initialize first row\n",
    "\n",
    "    for i in range(1,rows):\n",
    "        for j in range(1,columns):\n",
    "\n",
    "            \n",
    "            if (seq1[i-1] == seq2[j-1]):\n",
    "                score = Match\n",
    "            else: score = Mismatch\n",
    "               \n",
    "            left = score_matrix[i][j-1][0] + Gap                               #value of left cell of current cell\n",
    "            diagonal = score_matrix[i-1][j-1][0] + score                       #value of diagonal cell of current cell\n",
    "            up = score_matrix[i-1][j][0] + Gap                                 #value of up cell of current cell\n",
    "            o_val = [left,diagonal,up]                              #o_val is an array of left,diagonal and up\n",
    "            score_matrix[i][j] = [max(o_val), [i+1 for i,v in enumerate(o_val) if v==max(o_val)]] # up = 1, diagonal = 2, left = 3\n",
    "        \n",
    "  #Matrix Evaulation [end]\n",
    "\n",
    "\n",
    "    Best_Score = score_matrix[i][j][0]\n",
    "    print(Best_Score) \n",
    "    score = Best_Score\n",
    "    l_i = i      #store index in temperal variables\n",
    "    l_j = j\n",
    "    Alignments= [] #create an array for Alignments\n",
    "    tot_aln = find_each_route(i,j) #return number of align paths\n",
    "    aln_count = 0\n",
    "\n",
    "\n",
    "    print('Overall Score: '+ str(score))\n",
    "\n"
   ]
  },
  {
   "cell_type": "code",
   "execution_count": 23,
   "metadata": {},
   "outputs": [
    {
     "name": "stdout",
     "output_type": "stream",
     "text": [
      "151\n",
      "Overall Score: 151\n"
     ]
    }
   ],
   "source": [
    "pairwise_alignment(seq1,seq2)"
   ]
  },
  {
   "cell_type": "code",
   "execution_count": null,
   "metadata": {},
   "outputs": [],
   "source": []
  }
 ],
 "metadata": {
  "kernelspec": {
   "display_name": "Python 3",
   "language": "python",
   "name": "python3"
  },
  "language_info": {
   "codemirror_mode": {
    "name": "ipython",
    "version": 3
   },
   "file_extension": ".py",
   "mimetype": "text/x-python",
   "name": "python",
   "nbconvert_exporter": "python",
   "pygments_lexer": "ipython3",
   "version": "3.8.5"
  }
 },
 "nbformat": 4,
 "nbformat_minor": 4
}
